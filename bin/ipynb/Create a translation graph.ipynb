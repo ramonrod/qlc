{
    "worksheets": [
        {
            "cells": [
                {
                    "source": "# Translation Graphs\n\nThe qlc repository has some scripts in the \"bin\" folder to extract and handle translation graphs from the quanthistling data. In addition to this, there is also one script that extracts a matrix directly from the data (rows are spanish stems, columns are translations in the sources). Such a a matrix may also be generated through translation graphs, by combining the following operations:\n\n1. Generating a translation graph from the data\n2. Combining several translation graphs by matching spanish translations\n3. linking spanish translations that have or contain the same stem\n4. Parsing the graph, find all linked stems and print out a matrix with the connected nodes: spanish translation and their head words\n\nFor each step there is one Python script to carry out the task. This allows intermediate processing steps with the translation graph either in Python or with other computational tools. Every Python script uses the \"dot\" file format to read and write graphs (see http://en.wikipedia.org/wiki/DOT_language). The scripts require Python 3.", 
                    "cell_type": "markdown"
                }, 
                {
                    "source": "##What are translation graphs?\n\nIn our case, translation graphs are graphs that connect all spanish translation with every head word that we find for each translation in our sources. The idea is that spanish is some kind of interlingua in our case: if a string of a spanish translation in one source matches a string in another source this will only be '''one''' node in our graph. For the head words, this is not the case: matching strings in head words in different source are different nodes in the graph. This holds even if the different sources describe the same language, as different sources will use different orthographies. \n\nTo fullfil that need, head words are internally represented as a string with two parts: the head word and its source. Both parts are seperated by a pipe symbol \"|\". For example, in a dot file such a node looks like this:\n\n> \"\u00f3c\u00e1ji|thiesen1998\" [lang=boa, source=thiesen1998_25_339];\n\nThe square brackets contain additional attributes here. These attributes are not part of the node's name, they contain just additonal information the user wants to store with the nodes.\n\nIn comparison, a spanish translation looks like this:\n\n> \"vaca\" [lang=spa];\n\nThere is no attribute \"source\" here, as this translation might occur in several sources. An edge connecting the two nodes looks like this:\n\n> \"vaca\" -- \"\u00f3c\u00e1ji|thiesen1998\";\n\nTo handle such graphs our scripts use the NetworkX Python library (http://networkx.lanl.gov/). It is kind of a standard in scientific graph computing with Python (remark: I started with the pygraph library, which has more or less the same API but by far not enough operations to compute with graphs later).\n", 
                    "cell_type": "markdown"
                }, 
                {
                    "source": "## Imports", 
                    "cell_type": "markdown"
                }, 
                {
                    "cell_type": "code", 
                    "language": "python", 
                    "outputs": [], 
                    "collapsed": false, 
                    "prompt_number": 3, 
                    "input": "sys.path.append(\"/home/qlc/qlc/src\")\nfrom qlc.CorpusReader import CorpusReaderDict\nfrom networkx import Graph\nfrom qlc.translationgraph import read, write"
                }, 
                {
                    "source": "## Step 1: Extracting a translation graph\n\nThe fisrt step extract the data from Witotoan languages and returns a graph for each source.", 
                    "cell_type": "markdown"
                }, 
                {
                    "cell_type": "code", 
                    "language": "python", 
                    "outputs": [], 
                    "collapsed": true, 
                    "prompt_number": 4, 
                    "input": "cr = CorpusReaderDict(\"/home/qlc/qlc/data\")"
                }, 
                {
                    "cell_type": "code", 
                    "language": "python", 
                    "outputs": [], 
                    "collapsed": true, 
                    "prompt_number": 17, 
                    "input": "import re\ndictdata_ids = cr.dictdata_ids_for_component(\"Witotoan\")\nre_quotes = re.compile('\"')"
                }, 
                {
                    "cell_type": "code", 
                    "language": "python", 
                    "outputs": [
                        {
                            "output_type": "pyout", 
                            "prompt_number": 18, 
                            "text": "[u&apos;190&apos;, u&apos;186&apos;, u&apos;187&apos;, u&apos;185&apos;, u&apos;188&apos;, u&apos;189&apos;, u&apos;436&apos;]"
                        }
                    ], 
                    "collapsed": false, 
                    "prompt_number": 18, 
                    "input": "dictdata_ids"
                }, 
                {
                    "cell_type": "code", 
                    "language": "python", 
                    "outputs": [], 
                    "collapsed": true, 
                    "prompt_number": 19, 
                    "input": "graphs = list()\nfor dictdata_id in dictdata_ids:\n    gr = Graph()\n\n    src_language_iso = cr.src_language_iso_for_dictdata_id(dictdata_id)\n    tgt_language_iso = cr.tgt_language_iso_for_dictdata_id(dictdata_id)\n    if src_language_iso != 'spa' and tgt_language_iso != 'spa':\n        continue\n    \n    language_iso = None\n    if tgt_language_iso == 'spa':\n        language_iso = src_language_iso\n    else:\n        language_iso = tgt_language_iso\n\n    dictdata_string = cr.dictdata_string_id_for_dictata_id(dictdata_id)\n    bibtex_key = dictdata_string.split(\"_\")[0]\n\n    for head, translation in cr.heads_with_translations_for_dictdata_id(dictdata_id):\n        if src_language_iso == 'spa':\n            (head, translation) = (translation, head)\n\n        head_with_source = re_quotes.sub('', u\"{0}|{1}\".format(head, bibtex_key))\n        translation = re_quotes.sub('', translation)\n        gr.add_node(head_with_source, attr_dict={ \"lang\": language_iso, \"source\": bibtex_key })\n        gr.add_node(translation, attr_dict={ \"lang\": \"spa\" })\n        gr.add_edge(head_with_source, translation)\n    graphs.append(gr)"
                }, 
                {
                    "source": "###Test", 
                    "cell_type": "markdown"
                }, 
                {
                    "cell_type": "code", 
                    "language": "python", 
                    "outputs": [
                        {
                            "output_type": "pyout", 
                            "prompt_number": 20, 
                            "text": "2257"
                        }
                    ], 
                    "collapsed": false, 
                    "prompt_number": 20, 
                    "input": "import networkx\nnetworkx.algorithms.components.number_connected_components(graphs[0])"
                }, 
                {
                    "source": "## Step 2: Combining graphs\n\nCombine graphs by matching spanish translations.\n", 
                    "cell_type": "markdown"
                }, 
                {
                    "cell_type": "code", 
                    "language": "python", 
                    "outputs": [], 
                    "collapsed": true, 
                    "prompt_number": 21, 
                    "input": "import copy\ncombined_graph = copy.deepcopy(graphs[0])\nfor gr in graphs[1:]:\n    for node in gr:\n        combined_graph.add_node(node, gr.node[node])\n    for n1, n2 in gr.edges_iter():\n        combined_graph.add_edge(n1, n2, gr.edge[n1][n2])"
                }, 
                {
                    "source": "###Test", 
                    "cell_type": "markdown"
                }, 
                {
                    "cell_type": "code", 
                    "language": "python", 
                    "outputs": [
                        {
                            "output_type": "pyout", 
                            "prompt_number": 22, 
                            "text": "15279"
                        }
                    ], 
                    "collapsed": false, 
                    "prompt_number": 22, 
                    "input": "networkx.algorithms.components.number_connected_components(combined_graph)"
                }, 
                {
                    "source": "## Step 3: Connect nodes with the same stem\n\nThe next step is to connect spanish translations that contain the same stem. For this, the script \"translations_spanish_graph_connectstemswithoutstopwords.py\" first removes certain stop words from the translation (list of stop words is here: data/stopwords/spa.txt). There are two cases then: just one word remains, or more than one word remains.\n\nThe script has an option to let the user choose what to do with the latter: either they are not connected with anything at all (default behaviour), or each word is stemmed and the translation is connected with every other translation that contain the same stems. Right now this results in many connections that look not very useful. This should be done in a more intelligent way in the future (for example find heads of phrases in mulitword expression and only connect those; split the weight of the connections between all stems and work with weighted graphs from this step on; ...).\n\nTo connect the spanish translations the script adds additional \"stem nodes\" to the graph. The name of these nodes consists of a spanish word stem plus a pipe symbol plus the string \"stem\". These nodes look like this in a dot file:\n\n> \"tom|stem\" [is_stem=True];\n\nThe introduction of these nodes later facilites the output of translation matrixes, as you can just search for stems within the graph and only output direct neighbours with spanish translations. It would also be possible to directly connect the spanish translations if they have a matching stem, but then the graph traversal to find matching translations and their heads is a bit more complicated later. If someone has some ideas about this...\n", 
                    "cell_type": "markdown"
                }, 
                {
                    "cell_type": "code", 
                    "language": "python", 
                    "outputs": [], 
                    "collapsed": true, 
                    "prompt_number": 23, 
                    "input": "import codecs, unicodedata, qlc.utils\n\nstopwords = qlc.utils.stopwords_from_file(\"/home/qlc/qlc/data/stopwords/spa.txt\")"
                }, 
                {
                    "cell_type": "code", 
                    "language": "python", 
                    "outputs": [], 
                    "collapsed": true, 
                    "prompt_number": 24, 
                    "input": "combined_graph_stemmed = copy.deepcopy(combined_graph)"
                }, 
                {
                    "cell_type": "code", 
                    "language": "python", 
                    "outputs": [], 
                    "collapsed": true, 
                    "prompt_number": 25, 
                    "input": "import Stemmer\nstemmer = Stemmer.Stemmer('spanish')\nsplit_multiwords = False"
                }, 
                {
                    "cell_type": "code", 
                    "language": "python", 
                    "outputs": [], 
                    "collapsed": true, 
                    "prompt_number": 26, 
                    "input": "for node in combined_graph.nodes():\n    if \"lang\" in combined_graph.node[node] and combined_graph.node[node][\"lang\"] == \"spa\":\n        phrase_without_stopwords = qlc.utils.remove_stopwords(node, stopwords)\n        phrase_stems = qlc.utils.stem_phrase(phrase_without_stopwords, stemmer, split_multiwords)\n        for stem in phrase_stems:\n            stem = stem + \"|stem\"\n            combined_graph_stemmed.add_node(stem, is_stem=True)\n            combined_graph_stemmed.add_edge(stem, node)"
                }, 
                {
                    "source": "### Test", 
                    "cell_type": "markdown"
                }, 
                {
                    "cell_type": "code", 
                    "language": "python", 
                    "outputs": [
                        {
                            "output_type": "pyout", 
                            "prompt_number": 27, 
                            "text": "11973"
                        }
                    ], 
                    "collapsed": false, 
                    "prompt_number": 27, 
                    "input": "networkx.algorithms.components.number_connected_components(combined_graph_stemmed)"
                }, 
                {
                    "source": "### Output .dot file", 
                    "cell_type": "markdown"
                }, 
                {
                    "cell_type": "code", 
                    "language": "python", 
                    "outputs": [
                        {
                            "output_type": "pyerr", 
                            "evalue": "'ascii' codec can't encode character u'\\u0301' in position 8: ordinal not in range(128)", 
                            "traceback": [
                                "<span class=\"ansired\">---------------------------------------------------------------------------</span>\n<span class=\"ansired\">UnicodeEncodeError</span>                        Traceback (most recent call last)", 
                                "<span class=\"ansigreen\">/home/qlc/ipython/&lt;ipython-input-28-a52bc5d97b8a&gt;</span> in <span class=\"ansicyan\">&lt;module&gt;</span><span class=\"ansiblue\">()</span>\n<span class=\"ansigreen\">      1</span> OUT <span class=\"ansiyellow\">=</span> codecs<span class=\"ansiyellow\">.</span>open<span class=\"ansiyellow\">(</span><span class=\"ansiblue\">&quot;IPython/frontend/html/notebook/static/translation_graph_stemmed.dot&quot;</span><span class=\"ansiyellow\">,</span> <span class=\"ansiblue\">&quot;w&quot;</span><span class=\"ansiyellow\">,</span> <span class=\"ansiblue\">&quot;utf-8&quot;</span><span class=\"ansiyellow\">)</span><span class=\"ansiyellow\"></span>\n<span class=\"ansigreen\">----&gt; 2</span><span class=\"ansiyellow\"> </span>OUT<span class=\"ansiyellow\">.</span>write<span class=\"ansiyellow\">(</span>write<span class=\"ansiyellow\">(</span>combined_graph_stemmed<span class=\"ansiyellow\">)</span><span class=\"ansiyellow\">)</span><span class=\"ansiyellow\"></span>\n<span class=\"ansigreen\">      3</span> OUT<span class=\"ansiyellow\">.</span>close<span class=\"ansiyellow\">(</span><span class=\"ansiyellow\">)</span><span class=\"ansiyellow\"></span>\n", 
                                "<span class=\"ansigreen\">/home/qlc/qlc/src/qlc/translationgraph.pyc</span> in <span class=\"ansicyan\">write</span><span class=\"ansiblue\">(gr)</span>\n<span class=\"ansigreen\">     86</span> <span class=\"ansiyellow\"></span>\n<span class=\"ansigreen\">     87</span>     <span class=\"ansigreen\">for</span> n <span class=\"ansigreen\">in</span> gr<span class=\"ansiyellow\">:</span><span class=\"ansiyellow\"></span>\n<span class=\"ansigreen\">---&gt; 88</span><span class=\"ansiyellow\">         </span>node_string <span class=\"ansiyellow\">=</span> <span class=\"ansiblue\">&apos;&quot;{0}&quot;&apos;</span><span class=\"ansiyellow\">.</span>format<span class=\"ansiyellow\">(</span>n<span class=\"ansiyellow\">)</span><span class=\"ansiyellow\"></span>\n<span class=\"ansigreen\">     89</span>         node_attributes <span class=\"ansiyellow\">=</span> gr<span class=\"ansiyellow\">.</span>node<span class=\"ansiyellow\">[</span>n<span class=\"ansiyellow\">]</span><span class=\"ansiyellow\"></span>\n<span class=\"ansigreen\">     90</span>         <span class=\"ansigreen\">if</span> len<span class=\"ansiyellow\">(</span>node_attributes<span class=\"ansiyellow\">)</span> <span class=\"ansiyellow\">&gt;</span> <span class=\"ansicyan\">0</span><span class=\"ansiyellow\">:</span><span class=\"ansiyellow\"></span>\n", 
                                "<span class=\"ansired\">UnicodeEncodeError</span>: &apos;ascii&apos; codec can&apos;t encode character u&apos;\\u0301&apos; in position 8: ordinal not in range(128)"
                            ], 
                            "ename": "UnicodeEncodeError"
                        }
                    ], 
                    "collapsed": false, 
                    "prompt_number": 28, 
                    "input": "OUT = codecs.open(\"IPython/frontend/html/notebook/static/translation_graph_stemmed.dot\", \"w\", \"utf-8\")\nOUT.write(write(combined_graph_stemmed))\nOUT.close()"
                }, 
                {
                    "source": "## Step 4: Output a matrix\n\nThe last step then outputs a matrix for a given translation graph. \n\nThe code outputs the matrix to a file \"translation_matrix.csv\" in this case. For this, the code first finds all nodes that are stems and collect all the neighbours that are spanish translations. This is one row in the matrix. It then collects all neighbours of each spanish translations that are neither stems nor spanish translations (i.e. the head words of the sources). Each source's head words is then one column entry of that row. Several translation or head words are seperated by a pipe symbol \"|\".\n\n", 
                    "cell_type": "markdown"
                }, 
                {
                    "input": "import collections\nmatrix = {}\nsources = set()\nfor node in combined_graph_stemmed:\n    if \"is_stem\" in combined_graph_stemmed.node[node] and combined_graph_stemmed.node[node][\"is_stem\"]:\n        spanish_nodes = [n for n in combined_graph_stemmed[node] if \"lang\" in combined_graph_stemmed.node[n] and combined_graph_stemmed.node[n][\"lang\"] == \"spa\"]\n        head_nodes = []\n        for sp in spanish_nodes:\n            head_nodes += [n for n in combined_graph_stemmed[sp] if (\"lang\" not in combined_graph_stemmed.node[n] or combined_graph_stemmed.node[n][\"lang\"] != \"spa\") and (\"is_stem\" not in combined_graph_stemmed.node[n] or not combined_graph_stemmed.node[n][\"is_stem\"])]\n        head_nodes = set(head_nodes)\n\n        heads = collections.defaultdict(list)\n        for head in head_nodes:\n            (head, source) = head.split(\"|\")\n            sources.add(source)\n            heads[source].append(head)\n        matrix[\"|\".join(sorted(spanish_nodes))] = heads", 
                    "cell_type": "code", 
                    "collapsed": true, 
                    "language": "python", 
                    "outputs": []
                }, 
                {
                    "input": "OUT = codecs.open(\"IPython/frontend/html/notebook/static/translation_matrix.csv\", \"w\", \"utf-8\")\nsorted_sources = sorted(sources)\nOUT.write(\"{0}\\t{1}\\n\".format(\"spa\", \"\\t\".join(sorted_sources)))\nfor spanish in sorted(matrix):\n    OUT.write(spanish)\n    OUT.write(\"\\t\")\n    sources_heads = []\n    for source in sorted(sources):\n        heads = [h for h in matrix[spanish][source]]\n        sources_heads.append(\"|\".join(sorted(heads)))\n    OUT.write(\"\\t\".join(sources_heads))\n    OUT.write(\"\\n\")\nOUT.close()\n", 
                    "cell_type": "code", 
                    "collapsed": true, 
                    "language": "python", 
                    "outputs": []
                }, 
                {
                    "source": "### Download Matrix File\n\n<a href=\"static/translation_matrix.csv\" target=\"_blank\">Link to matrix file as CSV</a>", 
                    "cell_type": "markdown"
                }
            ]
        }
    ], 
    "metadata": {
        "name": "Create a translation graph"
    }, 
    "name": "Create a translation graph", 
    "nbformat": 2
}