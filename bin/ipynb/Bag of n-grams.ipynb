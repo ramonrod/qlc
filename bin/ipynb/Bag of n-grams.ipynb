{
    "worksheets": [
        {
            "cells": [
                {
                    "source": "Bag of symbol approach, with N-Grams\n====================================", 
                    "cell_type": "markdown"
                }, 
                {
                    "source": "Load data\n---------\n\nChange to qlc directory", 
                    "cell_type": "markdown"
                }, 
                {
                    "cell_type": "code", 
                    "language": "python", 
                    "outputs": [
                        {
                            "output_type": "stream", 
                            "text": "/media/Daten/Projects/svn-googlecode/qlc"
                        }
                    ], 
                    "collapsed": false, 
                    "prompt_number": 23, 
                    "input": "cd /media/Daten/Projects/svn-googlecode/qlc/"
                }, 
                {
                    "source": "Add module path and import modules", 
                    "cell_type": "markdown"
                }, 
                {
                    "cell_type": "code", 
                    "language": "python", 
                    "outputs": [], 
                    "collapsed": true, 
                    "prompt_number": 24, 
                    "input": "sys.path.append(\"./src\")\nfrom qlc.CorpusReader import CorpusReaderWordlist\nfrom qlc.OrthographyProfile import OrthographyProfile\nimport collections"
                }, 
                {
                    "source": "Load data into corpus reader", 
                    "cell_type": "markdown"
                }, 
                {
                    "cell_type": "code", 
                    "language": "python", 
                    "outputs": [], 
                    "collapsed": true, 
                    "prompt_number": 25, 
                    "input": "cr = CorpusReaderWordlist(\"data\")"
                }, 
                {
                    "source": "Load all concepts into a dict, key is concept, value is dict of language: set of bigrams (our bag of N-GRAMs)", 
                    "cell_type": "markdown"
                }, 
                {
                    "cell_type": "code", 
                    "language": "python", 
                    "outputs": [], 
                    "collapsed": true, 
                    "prompt_number": 26, 
                    "input": "N_IN_N_GRAMS = 2\no = OrthographyProfile(\"data/orthography_profiles/huber1992.txt\")\nentries = collections.defaultdict(dict)\nlanguages = list()\nfor wordlistdata_id in cr.wordlist_ids_for_bibtex_key('huber1992'):\n    language_bookname = cr.get_language_bookname_for_wordlist_data_id(wordlistdata_id)\n    languages.append(language_bookname)\n    for concept, counterpart in cr.concepts_with_counterparts_for_wordlistdata_id(wordlistdata_id):\n        orth_list = o.parse(counterpart).split(\" \")\n        start = 0\n        end = N_IN_N_GRAMS\n        orth_ngram_list = set()\n        while end <= len(orth_list):\n            ngram = \" \".join(orth_list[start:end])\n            orth_ngram_list.add(ngram)\n            start += 1\n            end += 1\n            \n        if language_bookname in entries[concept]:\n            entries[concept][language_bookname].update(orth_ngram_list)\n        else:\n            entries[concept][language_bookname] = orth_ngram_list\n            #entries[concept][language_bookname].update(orth_ngram_set)\n"
                }, 
                {
                    "source": "Test data\n---------\n\nDisplay an example set for an entry which has two counterparts. Notice that this is only one set, nevertheless. This is our bag of n-grams.", 
                    "cell_type": "markdown"
                }, 
                {
                    "cell_type": "code", 
                    "language": "python", 
                    "outputs": [
                        {
                            "output_type": "pyout", 
                            "prompt_number": 27, 
                            "text": "set([u&apos;# \\u02a7\\u02b0&apos;,\n     u&apos;r e&apos;,\n     u&apos;e\\u0301 r&apos;,\n     u&apos;x \\u02a7\\u02b0&apos;,\n     u&apos;# \\u026f&apos;,\n     u&apos;e #&apos;,\n     u&apos;\\u026f \\u0294&apos;,\n     u&apos;k\\u02b7 a&apos;,\n     u&apos;n e\\u0301&apos;,\n     u&apos;\\u0294 a\\u0301&apos;,\n     u&apos;o\\u0301 \\u0294&apos;,\n     u&apos;a \\u0294&apos;,\n     u&apos;x \\u026f\\u0301&apos;,\n     u&apos;\\u02a7\\u02b0 o\\u0301&apos;,\n     u&apos;# k\\u02b7&apos;,\n     u&apos;\\u026f\\u0301 n&apos;,\n     u&apos;\\u02a7\\u02b0 o&apos;,\n     u&apos;a #&apos;,\n     u&apos;# a\\u0301&apos;,\n     u&apos;o t\\u02b0&apos;,\n     u&apos;a\\u0301 x&apos;,\n     u&apos;\\u0294 x&apos;,\n     u&apos;x e\\u0301&apos;,\n     u&apos;j a\\u0301&apos;,\n     u&apos;t\\u02b0 a&apos;,\n     u&apos;a\\u0301 n&apos;,\n     u&apos;e\\u0301 n&apos;,\n     u&apos;a\\u0301 j&apos;])"
                        }
                    ], 
                    "collapsed": false, 
                    "prompt_number": 27, 
                    "input": "entries[u\"POCO_FEW\"][u\"bora\"]"
                }, 
                {
                    "source": "Create a list of language pairs\n-------------------------------", 
                    "cell_type": "markdown"
                }, 
                {
                    "cell_type": "code", 
                    "language": "python", 
                    "outputs": [], 
                    "collapsed": true, 
                    "prompt_number": 28, 
                    "input": "languages = list(set(languages))\nlanguages_tuples = [ (languages[i], languages[j])\n                    for i in range(len(languages)-1)\n                    for j in range(i+1, len(languages))]"
                }, 
                {
                    "cell_type": "code", 
                    "language": "python", 
                    "outputs": [], 
                    "collapsed": true, 
                    "prompt_number": 29, 
                    "input": "languages_tuples = [ (u\"bora\", u\"muinane\") ]"
                }, 
                {
                    "source": "Frequency calculations\n----------------------\n\nCalculate frequencies of individual n-grams and overall token count N for each language pair", 
                    "cell_type": "markdown"
                }, 
                {
                    "cell_type": "code", 
                    "language": "python", 
                    "outputs": [], 
                    "collapsed": true, 
                    "prompt_number": 30, 
                    "input": "bigram_freq = collections.defaultdict(dict)\nN = collections.defaultdict(int)\n\nfor c in entries:\n    for l in languages_tuples:\n        l1, l2 = l\n        if l1 in entries[c] and l2 in entries[c]:\n            N[l] += 1\n\n    for l in languages:\n        if l in entries[c]:\n            for b in entries[c][l]:\n                if b in bigram_freq[l]:\n                    bigram_freq[l][b] += 1\n                else:\n                    bigram_freq[l][b] = 1"
                }, 
                {
                    "source": "Then count all co-occuring n-grams for each language pair", 
                    "cell_type": "markdown"
                }, 
                {
                    "cell_type": "code", 
                    "language": "python", 
                    "outputs": [], 
                    "collapsed": true, 
                    "prompt_number": 31, 
                    "input": "import math\n\ncounts = collections.defaultdict(dict)\n\nfor c in entries:\n    for l in languages_tuples:\n        l1, l2 = l\n\n        if l1 not in entries[c] or l2 not in entries[c]:\n            continue\n            \n        for b1 in entries[c][l1]:\n                \n            for b2 in entries[c][l2]:\n\n                bigram = (b1, b2)\n                if bigram in counts[l]:\n                    counts[l][bigram] += 1\n                else:\n                    counts[l][bigram] = 1"
                }, 
                {
                    "source": "Test significance calculation\n-----------------------------\n\n$\\lambda = expectation(A,B) = f(A)*f(B)/N$\n\n$k = f(A,B)$\n\n$logsig(A,B) = k*log(\\lambda)-\\lambda-logfact(k)$", 
                    "cell_type": "markdown"
                }, 
                {
                    "cell_type": "code", 
                    "language": "python", 
                    "outputs": [
                        {
                            "output_type": "pyout", 
                            "prompt_number": 32, 
                            "text": "(103, 91, 52, 349, 26.856733524355302, -12.11070805514305)"
                        }
                    ], 
                    "collapsed": false, 
                    "prompt_number": 32, 
                    "input": "def logfact(n):\n    return sum(math.log(n) for n in range(1, n + 1))\n\nfA = bigram_freq[u'bora'][u'e #']\nfB = bigram_freq[u'muinane'][u'o #']\nfAB = counts[(u'bora', u'muinane')][(u'e #', u'o #')]\nfN = N[(u'bora', u'muinane')]\nLAMBDA = (float(fA)*float(fB))/float(fN)\nSIG = fAB*math.log(LAMBDA)-LAMBDA-logfact(fAB)\nfA, fB, fAB, fN, LAMBDA, SIG"
                }, 
                {
                    "source": "Significance calculation\n------------------------\nCalculate significance from counts", 
                    "cell_type": "markdown"
                }, 
                {
                    "cell_type": "code", 
                    "language": "python", 
                    "outputs": [], 
                    "collapsed": true, 
                    "prompt_number": 33, 
                    "input": "sig = dict()\n\ndef logfact(n):\n    return sum(math.log(n) for n in range(1, n + 1))\n\nfor l in languages_tuples:\n    l1, l2 = l\n    sig[l] = dict()\n    for bigram in counts[l]:\n        b1, b2 = bigram\n        lambta = (float(bigram_freq[l1][b1])*float(bigram_freq[l2][b2]))/N[l]\n        k = counts[l][bigram]\n        sig[l][bigram] = k*math.log(lambta)-lambta-logfact(k)"
                }, 
                {
                    "cell_type": "code", 
                    "language": "python", 
                    "outputs": [
                        {
                            "output_type": "pyout", 
                            "prompt_number": 34, 
                            "text": "-12.11070805514305"
                        }
                    ], 
                    "collapsed": false, 
                    "prompt_number": 34, 
                    "input": "sig[(u'bora', u'muinane')][(u'e #', u'o #')]"
                }, 
                {
                    "source": "Output the Top 10 n-grams of each language pair", 
                    "cell_type": "markdown"
                }, 
                {
                    "cell_type": "code", 
                    "language": "python", 
                    "outputs": [
                        {
                            "output_type": "stream", 
                            "text": "Languages: (u&apos;bora&apos;, u&apos;muinane&apos;)\n(u&apos;# k\\u02b0&apos;, u&apos;# k&apos;): -29.3316484932\n(u&apos;# k\\u02b7&apos;, u&apos;g a\\u0301&apos;): -26.9960795042\n(u&apos;# ts\\u02b0&apos;, u&apos;# s&apos;): -23.5223812492\n(u&apos;# n&apos;, u&apos;# n&apos;): -22.5966560199\n(u&apos;# p&apos;, u&apos;# b&apos;): -22.1143788456\n(u&apos;# m&apos;, u&apos;# m&apos;): -21.7649237925\n(u&apos;ts\\u02b0 i\\u0335&apos;, u&apos;s e&apos;): -21.2416152279\n(u&apos;\\u0294 o\\u0301&apos;, u&apos;s e&apos;): -20.4957621187\n(u&apos;# t\\u02b0&apos;, u&apos;# t&apos;): -19.7072490176\n(u&apos;\\u02a7 i&apos;, u&apos;g i\\u0301&apos;): -19.6290467322\n(u&apos;i\\u0335 #&apos;, u&apos;e #&apos;): -19.1552796623\n(u&apos;x i\\u0335&apos;, u&apos;x e&apos;): -19.0437340362\n(u&apos;# t&apos;, u&apos;# d&apos;): -18.7482194223\n(u&apos;x ts\\u02b0&apos;, u&apos;s e&apos;): -18.3426488003\n(u&apos;# p\\u02b0&apos;, u&apos;# \\u0278&apos;): -17.4861610702\n(u&apos;# k\\u02b7&apos;, u&apos;# g&apos;): -17.3921336948\n(u&apos;p a&apos;, u&apos;b a&apos;): -16.9691475126\n(u&apos;k\\u02b7 a\\u0301&apos;, u&apos;g a\\u0301&apos;): -16.9601926373\n(u&apos;n e&apos;, u&apos;n o&apos;): -16.3484856003\n(u&apos;ts\\u02b0 i\\u0335&apos;, u&apos;u s&apos;): -15.8674805866\n(u&apos;# \\u02a7&apos;, u&apos;# g&apos;): -15.7830664938\n(u&apos;t o&apos;, u&apos;d u\\u0301&apos;): -15.5750795077\n(u&apos;o\\u0301 x&apos;, u&apos;s e&apos;): -15.4130327232\n(u&apos;# a&apos;, u&apos;# a\\u0301&apos;): -15.1252312255"
                        }
                    ], 
                    "collapsed": false, 
                    "prompt_number": 37, 
                    "input": "from operator import itemgetter\nfor language_pair in languages_tuples:\n    print(u\"Languages: {0}\".format(language_pair))\n    top24 = sorted(sig[language_pair].items(), key=itemgetter(1))[:24]\n    for t, _ in top24:\n        print(u\"{0}: {1}\".format(t, sig[language_pair][t]))\n    print"
                }, 
                {
                    "source": "Visualize significance function\n-------------------------------\nVisualize $f(k, n) = k*log(9000/n) + 9000/n$ for $5 < k < 100$ and $4300 < n < 4700$", 
                    "cell_type": "markdown"
                }, 
                {
                    "cell_type": "code", 
                    "language": "python", 
                    "outputs": [], 
                    "collapsed": false, 
                    "prompt_number": 38, 
                    "input": "from enthought.mayavi import mlab\n\n[k,n] = numpy.mgrid[5:100:2,4300:4700:50]\n\nd = k*numpy.log(9000/n)+9000/n\nd[np.isinf(d)] = np.nan\nx = k\ny = n\nz = d\n\nsurface = mlab.mesh(x, y ,z)\nmlab.axes()\nmlab.show()"
                }
            ]
        }
    ], 
    "metadata": {
        "name": "Bag of n-grams"
    }, 
    "nbformat": 2
}