{
    "worksheets": [
        {
            "cells": [
                {
                    "source": "Change to qlc directory", 
                    "cell_type": "markdown"
                }, 
                {
                    "cell_type": "code", 
                    "language": "python", 
                    "outputs": [
                        {
                            "output_type": "stream", 
                            "text": "/media/Daten/Projects/svn-googlecode/qlc"
                        }
                    ], 
                    "collapsed": false, 
                    "prompt_number": 23, 
                    "input": "cd /media/Daten/Projects/svn-googlecode/qlc/"
                }, 
                {
                    "source": "Add module path and import modules", 
                    "cell_type": "markdown"
                }, 
                {
                    "cell_type": "code", 
                    "language": "python", 
                    "outputs": [], 
                    "collapsed": false, 
                    "prompt_number": 24, 
                    "input": "sys.path.append(\"./src\")\nfrom qlc.CorpusReader import CorpusReaderWordlist\nfrom qlc.OrthographyProfile import OrthographyProfile\nimport collections"
                }, 
                {
                    "source": "Load data into corpus reader", 
                    "cell_type": "markdown"
                }, 
                {
                    "cell_type": "code", 
                    "language": "python", 
                    "outputs": [], 
                    "collapsed": true, 
                    "prompt_number": 25, 
                    "input": "cr = CorpusReaderWordlist(\"data\")"
                }, 
                {
                    "source": "Load all concepts into a dict, key is concept, value is dict of language: set of bigrams (our bag of N-GRAMs)", 
                    "cell_type": "markdown"
                }, 
                {
                    "cell_type": "code", 
                    "language": "python", 
                    "outputs": [], 
                    "collapsed": true, 
                    "prompt_number": 26, 
                    "input": "N_IN_N_GRAMS = 2\no = OrthographyProfile(\"data/orthography_profiles/huber1992.txt\")\nentries = collections.defaultdict(dict)\nlanguages = list()\nfor wordlistdata_id in cr.wordlist_ids_for_bibtex_key('huber1992'):\n    language_bookname = cr.get_language_bookname_for_wordlist_data_id(wordlistdata_id)\n    languages.append(language_bookname)\n    for concept, counterpart in cr.concepts_with_counterparts_for_wordlistdata_id(wordlistdata_id):\n        orth_list = o.parse(counterpart).split(\" \")\n        start = 0\n        end = N_IN_N_GRAMS\n        orth_ngram_set = set()\n        while end <= len(orth_list):\n            ngram = \" \".join(orth_list[start:end])\n            orth_ngram_set.add(ngram)\n            start += 1\n            end += 1\n            \n        if language_bookname in entries[concept]:\n            entries[concept][language_bookname].update(orth_ngram_set)\n        else:\n            entries[concept][language_bookname] = set(orth_ngram_set)\n            #entries[concept][language_bookname].update(orth_ngram_set)\n"
                }, 
                {
                    "source": "Display an example set for an entry which has two counterparts. Notice that this is only one set, nevertheless. This is our bag of n-grams.", 
                    "cell_type": "markdown"
                }, 
                {
                    "cell_type": "code", 
                    "language": "python", 
                    "outputs": [
                        {
                            "output_type": "pyout", 
                            "prompt_number": 27, 
                            "text": "set([u&apos;i\\u0301 m&apos;,\n     u&apos;t i\\u0335&apos;,\n     u&apos;i t&apos;,\n     u&apos;o #&apos;,\n     u&apos;n o&apos;,\n     u&apos;# i\\u0301&apos;,\n     u&apos;i\\u0335 n&apos;,\n     u&apos;m i&apos;])"
                        }
                    ], 
                    "collapsed": false, 
                    "prompt_number": 27, 
                    "input": "entries[u\"MALO_BAD\"][u\"muinane\"]"
                }, 
                {
                    "source": "Create a list of language pairs", 
                    "cell_type": "markdown"
                }, 
                {
                    "cell_type": "code", 
                    "language": "python", 
                    "outputs": [], 
                    "collapsed": false, 
                    "prompt_number": 28, 
                    "input": "languages = list(set(languages))\nlanguages_tuples = [ (languages[i], languages[j])\n                    for i in range(len(languages)-1)\n                    for j in range(i+1, len(languages))]"
                }, 
                {
                    "cell_type": "code", 
                    "language": "python", 
                    "outputs": [], 
                    "collapsed": false, 
                    "prompt_number": 29, 
                    "input": "languages_tuples = [ (u\"bora\", u\"muinane\") ]"
                }, 
                {
                    "source": "Then count all co-occuring n-grams for each language pair", 
                    "cell_type": "markdown"
                }, 
                {
                    "cell_type": "code", 
                    "language": "python", 
                    "outputs": [], 
                    "collapsed": true, 
                    "prompt_number": 30, 
                    "input": "counts = collections.defaultdict(dict)\nfor c in entries:\n    for l in languages_tuples:\n        l1, l2 = l\n        if l1 not in entries[c]:\n            continue\n        for bigram1 in entries[c][l1]:\n            if l2 not in entries[c]:\n                continue\n            for bigram2 in entries[c][l2]:\n                bigram = (bigram1, bigram2)\n                if bigram in counts[l]:\n                    counts[l][bigram] += 1\n                else:\n                    counts[l][bigram] = 1"
                }, 
                {
                    "source": "Output the Top 10 n-grams of each language pair", 
                    "cell_type": "markdown"
                }, 
                {
                    "cell_type": "code", 
                    "language": "python", 
                    "outputs": [
                        {
                            "output_type": "stream", 
                            "text": "Languages: (u&apos;bora&apos;, u&apos;muinane&apos;)\n(u&apos;e #&apos;, u&apos;o #&apos;): 52\n(u&apos;\\u026f #&apos;, u&apos;i #&apos;): 39\n(u&apos;a #&apos;, u&apos;a #&apos;): 39\n(u&apos;# m&apos;, u&apos;# m&apos;): 37\n(u&apos;o #&apos;, u&apos;i #&apos;): 37\n(u&apos;a #&apos;, u&apos;i #&apos;): 35\n(u&apos;# k\\u02b0&apos;, u&apos;# k&apos;): 34\n(u&apos;k\\u02b7 a&apos;, u&apos;g a&apos;): 31\n(u&apos;e #&apos;, u&apos;n o&apos;): 31\n(u&apos;e #&apos;, u&apos;i #&apos;): 28\n(u&apos;a #&apos;, u&apos;b a&apos;): 27\n(u&apos;i #&apos;, u&apos;i #&apos;): 27\n(u&apos;n e&apos;, u&apos;o #&apos;): 26\n(u&apos;k\\u02b7 a&apos;, u&apos;i #&apos;): 26\n(u&apos;o #&apos;, u&apos;\\u0294 i&apos;): 26\n(u&apos;# n&apos;, u&apos;# n&apos;): 25\n(u&apos;n e&apos;, u&apos;n o&apos;): 25\n(u&apos;\\u026f #&apos;, u&apos;# g&apos;): 25\n(u&apos;\\u026f #&apos;, u&apos;i\\u0335 #&apos;): 25\n(u&apos;\\u026f #&apos;, u&apos;\\u0294 i&apos;): 25\n(u&apos;i\\u0335 #&apos;, u&apos;e #&apos;): 25\n(u&apos;a #&apos;, u&apos;g a&apos;): 24\n(u&apos;# k\\u02b7&apos;, u&apos;# g&apos;): 23\n(u&apos;p a&apos;, u&apos;b a&apos;): 23"
                        }
                    ], 
                    "collapsed": false, 
                    "prompt_number": 31, 
                    "input": "from operator import itemgetter\nfor language_pair in languages_tuples:\n    print(u\"Languages: {0}\".format(language_pair))\n    top24 = sorted(counts[language_pair].items(), key=itemgetter(1), reverse=True)[:24]\n    for t, _ in top24:\n        print(u\"{0}: {1}\".format(t, counts[language_pair][t]))\n    print"
                }, 
                {
                    "source": "Count and print all co-occuring characters for each language pair. The counts are based on the n-grams.", 
                    "cell_type": "markdown"
                }, 
                {
                    "cell_type": "code", 
                    "language": "python", 
                    "outputs": [
                        {
                            "output_type": "stream", 
                            "text": "Language pair: bora&lt;-&gt;muinane\n#&lt;-&gt;#: 3289\n\u00e1&lt;-&gt;#: 1733\na&lt;-&gt;#: 1721\n#&lt;-&gt;a: 1664\n#&lt;-&gt;i: 1501\n#&lt;-&gt;\u00e1: 1459\n\u026f&lt;-&gt;#: 1391\n\u0294&lt;-&gt;#: 1364\n#&lt;-&gt;\u00ed: 1320\ne&lt;-&gt;#: 1287\na&lt;-&gt;a: 1197\n#&lt;-&gt;\u0294: 1189\n\u00e1&lt;-&gt;\u00e1: 1187\nx&lt;-&gt;#: 1164\n#&lt;-&gt;i\u0335: 1154\n\u026f\u0301&lt;-&gt;#: 1139\n#&lt;-&gt;n: 1134\n#&lt;-&gt;\u00ed\u0335: 1088\n#&lt;-&gt;k: 1082\n\u00e9&lt;-&gt;#: 1038\n#&lt;-&gt;x: 1037\no&lt;-&gt;#: 1031\nk\u02b0&lt;-&gt;#: 1024\n\u00e1&lt;-&gt;a: 1002"
                        }
                    ], 
                    "collapsed": false, 
                    "prompt_number": 33, 
                    "input": "from operator import itemgetter\nfor l in languages_tuples:\n    char_pair_count = collections.defaultdict(int)\n    for b in counts[l]:\n        #print b\n        b1, b2 = b\n        chars1 = b1.split(\" \")\n        chars2 = b2.split(\" \")\n        for c1 in chars1:\n            for c2 in chars2:\n                char_pair_count[(c1, c2)] += counts[l][b]\n    top24 = sorted(char_pair_count.items(), key=itemgetter(1), reverse=True)[:24]\n    print(u\"Language pair: {0}\".format(u\"<->\".join(l)))\n    for t, _ in top24:\n        print(u\"{0}: {1}\".format(u\"<->\".join(t), char_pair_count[t]))\n"
                }
            ]
        }
    ], 
    "metadata": {
        "name": "Bag of n-grams"
    }, 
    "nbformat": 2
}